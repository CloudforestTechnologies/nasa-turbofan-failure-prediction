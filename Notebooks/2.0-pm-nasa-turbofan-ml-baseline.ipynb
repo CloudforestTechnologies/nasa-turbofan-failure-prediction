{
 "metadata": {
  "language_info": {
   "codemirror_mode": {
    "name": "ipython",
    "version": 3
   },
   "file_extension": ".py",
   "mimetype": "text/x-python",
   "name": "python",
   "nbconvert_exporter": "python",
   "pygments_lexer": "ipython3",
   "version": "3.6.6-final"
  },
  "orig_nbformat": 2,
  "kernelspec": {
   "name": "python3",
   "display_name": "Python 3",
   "language": "python"
  }
 },
 "nbformat": 4,
 "nbformat_minor": 2,
 "cells": [
  {
   "cell_type": "code",
   "execution_count": 1,
   "metadata": {},
   "outputs": [],
   "source": [
    "# Module Importations\n",
    "\n",
    "# Module Versioning"
   ]
  },
  {
   "cell_type": "code",
   "execution_count": 2,
   "metadata": {},
   "outputs": [],
   "source": [
    "# Custom Modules\n",
    "from Source.Data import ntfp_dataset_import"
   ]
  },
  {
   "cell_type": "code",
   "execution_count": 3,
   "metadata": {},
   "outputs": [],
   "source": [
    "# Constants"
   ]
  },
  {
   "cell_type": "code",
   "execution_count": 10,
   "metadata": {},
   "outputs": [
    {
     "output_type": "stream",
     "name": "stdout",
     "text": [
      "Loading pickled dataframe started ...\nLoading pickled dataframe complete ...\n<class 'pandas.core.frame.DataFrame'>\nInt64Index: 20631 entries, 1 to 100\nData columns (total 14 columns):\n #   Column  Non-Null Count  Dtype  \n---  ------  --------------  -----  \n 0   Cycles  20631 non-null  int64  \n 1   Sn_02   20631 non-null  float64\n 2   Sn_03   20631 non-null  float64\n 3   Sn_04   20631 non-null  float64\n 4   Sn_07   20631 non-null  float64\n 5   Sn_09   20631 non-null  float64\n 6   Sn_11   20631 non-null  float64\n 7   Sn_12   20631 non-null  float64\n 8   Sn_14   20631 non-null  float64\n 9   Sn_15   20631 non-null  float64\n 10  Sn_17   20631 non-null  int64  \n 11  Sn_20   20631 non-null  float64\n 12  Sn_21   20631 non-null  float64\n 13  RUL     20631 non-null  float64\ndtypes: float64(12), int64(2)\nmemory usage: 2.4 MB\nNone\n"
     ]
    }
   ],
   "source": [
    "# Load Dataset\n",
    "data_filename = 'rul_dataset.pkl'\n",
    "dataset = ntfp_dataset_import.load_pickled_data(data_filename)\n",
    "\n",
    "print(dataset.info())"
   ]
  },
  {
   "cell_type": "code",
   "execution_count": 5,
   "metadata": {},
   "outputs": [],
   "source": [
    "# Standardise columns"
   ]
  },
  {
   "cell_type": "code",
   "execution_count": 6,
   "metadata": {},
   "outputs": [],
   "source": [
    "# Calculate slopes for each column"
   ]
  },
  {
   "cell_type": "code",
   "execution_count": 7,
   "metadata": {},
   "outputs": [],
   "source": [
    "# Order slopes by value"
   ]
  },
  {
   "cell_type": "code",
   "execution_count": 8,
   "metadata": {},
   "outputs": [],
   "source": [
    "# Keep [5] most influential columns"
   ]
  },
  {
   "cell_type": "code",
   "execution_count": 9,
   "metadata": {},
   "outputs": [],
   "source": [
    "# Save dataset"
   ]
  }
 ]
}