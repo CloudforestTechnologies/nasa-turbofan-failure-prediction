{
 "metadata": {
  "language_info": {
   "codemirror_mode": {
    "name": "ipython",
    "version": 3
   },
   "file_extension": ".py",
   "mimetype": "text/x-python",
   "name": "python",
   "nbconvert_exporter": "python",
   "pygments_lexer": "ipython3",
   "version": 3
  },
  "orig_nbformat": 2
 },
 "nbformat": 4,
 "nbformat_minor": 2,
 "cells": [
  {
   "cell_type": "code",
   "execution_count": null,
   "metadata": {},
   "outputs": [],
   "source": [
    "# Module Importations\n",
    "import matplotlib.pylab as plt\n",
    "import numpy as np\n",
    "import sklearn\n",
    "from sklearn.metrics import mean_absolute_error\n",
    "from sklearn.metrics import mean_squared_error\n",
    "from sklearn.model_selection import train_test_split\n",
    "from sklearn.model_selection import RandomizedSearchCV\n",
    "import tensorflow as tf\n",
    "import tensorflow.keras as keras\n",
    "import types\n",
    "import yellowbrick\n",
    "from yellowbrick.regressor import PredictionError, ResidualsPlot"
   ]
  },
  {
   "cell_type": "code",
   "execution_count": null,
   "metadata": {},
   "outputs": [],
   "source": [
    "# Custom Modules\n",
    "from Source.Data import ntfp_dataset_import as data_load\n",
    "from Source.Data import ntfp_split_data as split_data\n",
    "from Source.Model import ntfp_keras_helpers as keras_helpers\n",
    "from Source.Model import ntfp_model_evaluation as evaluation\n",
    "from Source.Model import ntfp_tensorboard_helpers as tb_helpers\n",
    "from Source.Visualisation import figs_helper"
   ]
  },
  {
   "cell_type": "code",
   "execution_count": null,
   "metadata": {},
   "outputs": [],
   "source": [
    "# Module versioning information (WIP)\n",
    "def yield_version_info():\n",
    "\n",
    "    # Iterate over items in workspace\n",
    "    for name, val in globals().items():\n",
    "\n",
    "        # Try to return version if module type\n",
    "        if isinstance(val, types.ModuleType):\n",
    "            try:\n",
    "                yield val.__name__, val.__version__\n",
    "            except:\n",
    "                yield val.__name__, \"No version information\"\n",
    "\n",
    "list(yield_version_info())"
   ]
  },
  {
   "cell_type": "code",
   "execution_count": null,
   "metadata": {},
   "outputs": [],
   "source": [
    "# Constants\n",
    "SAVE_FIGS = False\n",
    "TRAIN_BASE_MODEL = True\n",
    "TRAIN_OPT_MODEL = True"
   ]
  }
 ]
}