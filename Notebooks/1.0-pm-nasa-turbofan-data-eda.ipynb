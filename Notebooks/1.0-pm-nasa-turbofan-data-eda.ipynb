{
 "metadata": {
  "language_info": {
   "codemirror_mode": {
    "name": "ipython",
    "version": 3
   },
   "file_extension": ".py",
   "mimetype": "text/x-python",
   "name": "python",
   "nbconvert_exporter": "python",
   "pygments_lexer": "ipython3",
   "version": "3.6.6-final"
  },
  "orig_nbformat": 2,
  "kernelspec": {
   "name": "python3",
   "display_name": "Python 3",
   "language": "python"
  }
 },
 "nbformat": 4,
 "nbformat_minor": 2,
 "cells": [
  {
   "cell_type": "code",
   "execution_count": 1,
   "metadata": {},
   "outputs": [
    {
     "output_type": "stream",
     "name": "stdout",
     "text": [
      "Numpy Version = 1.19.4\nPandas Version = 1.1.4\nSeaborn Version = 0.10.0\n"
     ]
    }
   ],
   "source": [
    "# Module Importations\n",
    "from matplotlib import pyplot as plt\n",
    "import numpy as np\n",
    "import pandas as pd \n",
    "import seaborn as sns\n",
    "\n",
    "# Module versioning information\n",
    "print('Numpy Version =', np.__version__)\n",
    "print('Pandas Version =', pd.__version__)\n",
    "print('Seaborn Version =', sns.__version__)"
   ]
  },
  {
   "cell_type": "code",
   "execution_count": 2,
   "metadata": {},
   "outputs": [],
   "source": [
    "# Custom Modules\n",
    "from Source.Data import ntfp_dataset_import"
   ]
  },
  {
   "cell_type": "code",
   "execution_count": 3,
   "metadata": {},
   "outputs": [],
   "source": [
    "# Constants"
   ]
  },
  {
   "cell_type": "code",
   "execution_count": 4,
   "metadata": {},
   "outputs": [
    {
     "output_type": "stream",
     "name": "stdout",
     "text": [
      "<bound method NDFrame.head of         Cycles    Set-1   Set-2  Set-3   Sn_01   Sn_02    Sn_03    Sn_04  \\\nEngine                                                                     \n1            1  -0.0007 -0.0004  100.0  518.67  641.82  1589.70  1400.60   \n1            2   0.0019 -0.0003  100.0  518.67  642.15  1591.82  1403.14   \n1            3  -0.0043  0.0003  100.0  518.67  642.35  1587.99  1404.20   \n1            4   0.0007  0.0000  100.0  518.67  642.35  1582.79  1401.87   \n1            5  -0.0019 -0.0002  100.0  518.67  642.37  1582.85  1406.22   \n...        ...      ...     ...    ...     ...     ...      ...      ...   \n709        251   9.9998  0.2500  100.0  489.05  605.33  1516.36  1315.28   \n709        252   0.0028  0.0015  100.0  518.67  643.42  1598.92  1426.77   \n709        253   0.0029  0.0000  100.0  518.67  643.68  1607.72  1430.56   \n709        254  35.0046  0.8400  100.0  449.44  555.77  1381.29  1148.18   \n709        255  42.0030  0.8400  100.0  445.00  549.85  1369.75  1147.45   \n\n        Sn_05  Sn_06  ...   Sn_12    Sn_13    Sn_14   Sn_15  Sn_16  Sn_17  \\\nEngine                ...                                                   \n1       14.62  21.61  ...  521.66  2388.02  8138.62  8.4195   0.03    392   \n1       14.62  21.61  ...  522.28  2388.07  8131.49  8.4318   0.03    392   \n1       14.62  21.61  ...  522.42  2388.03  8133.23  8.4178   0.03    390   \n1       14.62  21.61  ...  522.86  2388.08  8133.83  8.3682   0.03    392   \n1       14.62  21.61  ...  522.19  2388.04  8133.80  8.4294   0.03    393   \n...       ...    ...  ...     ...      ...      ...     ...    ...    ...   \n709     10.52  15.46  ...  380.16  2388.73  8185.69  8.4541   0.03    372   \n709     14.62  21.57  ...  535.02  2388.46  8185.47  8.2221   0.03    396   \n709     14.62  21.57  ...  535.41  2388.48  8193.94  8.2525   0.03    395   \n709      5.48   7.96  ...  187.92  2388.83  8125.64  9.0515   0.02    337   \n709      3.91   5.69  ...  134.32  2388.66  8144.33  9.1207   0.02    333   \n\n        Sn_18  Sn_19  Sn_20    Sn_21  \nEngine                                \n1        2388  100.0  39.06  23.4190  \n1        2388  100.0  39.00  23.4236  \n1        2388  100.0  38.95  23.3442  \n1        2388  100.0  38.88  23.3739  \n1        2388  100.0  38.90  23.4044  \n...       ...    ...    ...      ...  \n709      2319  100.0  29.11  17.5234  \n709      2388  100.0  39.38  23.7151  \n709      2388  100.0  39.78  23.8270  \n709      2223  100.0  15.26   9.0774  \n709      2212  100.0  10.66   6.4341  \n\n[160359 rows x 25 columns]>\n"
     ]
    }
   ],
   "source": [
    "# Load Dataset\n",
    "raw_data_df = ntfp_dataset_import.import_dataset()"
   ]
  },
  {
   "cell_type": "code",
   "execution_count": null,
   "metadata": {},
   "outputs": [],
   "source": []
  }
 ]
}