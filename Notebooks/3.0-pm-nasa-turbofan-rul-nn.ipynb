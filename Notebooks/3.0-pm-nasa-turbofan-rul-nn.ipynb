{
 "metadata": {
  "language_info": {
   "codemirror_mode": {
    "name": "ipython",
    "version": 3
   },
   "file_extension": ".py",
   "mimetype": "text/x-python",
   "name": "python",
   "nbconvert_exporter": "python",
   "pygments_lexer": "ipython3",
   "version": "3.6.6-final"
  },
  "orig_nbformat": 2,
  "kernelspec": {
   "name": "python3",
   "display_name": "Python 3.6.6 64-bit",
   "metadata": {
    "interpreter": {
     "hash": "3f92393cf9312ed24f4ccae2fdf5dee1635074d2034ccfaec2d070f8b1ae4f04"
    }
   }
  }
 },
 "nbformat": 4,
 "nbformat_minor": 2,
 "cells": [
  {
   "cell_type": "code",
   "execution_count": 9,
   "metadata": {},
   "outputs": [
    {
     "output_type": "stream",
     "name": "stdout",
     "text": [
      "sklearn: 0.22.2.post1\nkeras version:  2.4.0\ntensorflow version:  2.4.1\n"
     ]
    }
   ],
   "source": [
    "# Module Importations\n",
    "import sklearn\n",
    "from sklearn.metrics import mean_absolute_error\n",
    "from sklearn.metrics import mean_squared_error\n",
    "from sklearn.model_selection import train_test_split\n",
    "import tensorflow as tf\n",
    "import tensorflow.keras as keras\n",
    "\n",
    "# Module Versioning\n",
    "print('sklearn: ' + sklearn.__version__)\n",
    "print('keras version: ', keras.__version__)\n",
    "print('tensorflow version: ', tf.__version__) "
   ]
  },
  {
   "cell_type": "code",
   "execution_count": 10,
   "metadata": {},
   "outputs": [],
   "source": [
    "# Custom Modules\n",
    "from Source.Data import ntfp_dataset_import as data_load\n",
    "from Source.Data import ntfp_split_data as split_data\n",
    "from Source.Model import ntfp_keras_helpers as keras_helpers"
   ]
  },
  {
   "cell_type": "code",
   "execution_count": 11,
   "metadata": {},
   "outputs": [],
   "source": [
    "# Constants\n",
    "TRAIN_MODELS = True"
   ]
  },
  {
   "cell_type": "code",
   "execution_count": 12,
   "metadata": {},
   "outputs": [
    {
     "output_type": "stream",
     "name": "stdout",
     "text": [
      "Loading pickled dataframe started ...\nLoading pickled dataframe complete ...\n        Cycles   Sn_02    Sn_03    Sn_04   Sn_07    Sn_09  Sn_11   Sn_12  \\\nEngine                                                                     \n1            1  641.82  1589.70  1400.60  554.36  9046.19  47.47  521.66   \n1            2  642.15  1591.82  1403.14  553.75  9044.07  47.49  522.28   \n1            3  642.35  1587.99  1404.20  554.26  9052.94  47.27  522.42   \n1            4  642.35  1582.79  1401.87  554.45  9049.48  47.13  522.86   \n1            5  642.37  1582.85  1406.22  554.00  9055.15  47.28  522.19   \n...        ...     ...      ...      ...     ...      ...    ...     ...   \n100        196  643.49  1597.98  1428.63  551.43  9065.52  48.07  519.49   \n100        197  643.54  1604.50  1433.58  550.86  9065.11  48.04  519.68   \n100        198  643.42  1602.46  1428.18  550.94  9065.90  48.09  520.01   \n100        199  643.23  1605.26  1426.53  550.68  9073.72  48.39  519.67   \n100        200  643.85  1600.38  1432.14  550.79  9061.48  48.20  519.30   \n\n          Sn_14   Sn_15  Sn_17  Sn_20    Sn_21    RUL  \nEngine                                                 \n1       8138.62  8.4195    392  39.06  23.4190 -191.0  \n1       8131.49  8.4318    392  39.00  23.4236 -190.0  \n1       8133.23  8.4178    390  38.95  23.3442 -189.0  \n1       8133.83  8.3682    392  38.88  23.3739 -188.0  \n1       8133.80  8.4294    393  38.90  23.4044 -187.0  \n...         ...     ...    ...    ...      ...    ...  \n100     8137.60  8.4956    397  38.49  22.9735   -4.0  \n100     8136.50  8.5139    395  38.30  23.1594   -3.0  \n100     8141.05  8.5646    398  38.44  22.9333   -2.0  \n100     8139.29  8.5389    395  38.29  23.0640   -1.0  \n100     8137.33  8.5036    396  38.37  23.0522    0.0  \n\n[20631 rows x 14 columns]\n"
     ]
    }
   ],
   "source": [
    "# Load Dataset (Use set from previous ML investigation)\n",
    "filename = 'rul_dataset.pkl'\n",
    "rul_df = data_load.load_pickled_data(filename)\n",
    "\n",
    "print(rul_df)"
   ]
  },
  {
   "cell_type": "code",
   "execution_count": 13,
   "metadata": {},
   "outputs": [
    {
     "output_type": "stream",
     "name": "stdout",
     "text": [
      "Original Data Items: 20631\nTraining Data Items: 16505\nEvaluation Data Items: 4126\n"
     ]
    }
   ],
   "source": [
    "# Split data into training and evaluation sets\n",
    "training_set, evaluation_set = split_data.split_train_eval(rul_df, 0.2)"
   ]
  },
  {
   "cell_type": "code",
   "execution_count": 14,
   "metadata": {},
   "outputs": [
    {
     "output_type": "stream",
     "name": "stdout",
     "text": [
      "(16505, 13) (16505,)\n",
      "(4126, 13) (4126,)\n"
     ]
    }
   ],
   "source": [
    "# Create RUL Target Dataset\n",
    "\n",
    "# Training Set as Array\n",
    "rul_training_data = training_set.drop('RUL', axis = 1).values\n",
    "rul_training_label = training_set['RUL'].copy().values\n",
    "\n",
    "print(rul_training_data.shape, rul_training_label.shape)\n",
    "\n",
    "# Evaluation Set as Array\n",
    "rul_eval_data = evaluation_set.drop('RUL', axis = 1).values\n",
    "rul_eval_label = evaluation_set['RUL'].copy().values\n",
    "\n",
    "print(rul_eval_data.shape, rul_eval_label.shape)"
   ]
  },
  {
   "cell_type": "code",
   "execution_count": 15,
   "metadata": {},
   "outputs": [
    {
     "output_type": "stream",
     "name": "stdout",
     "text": [
      "(13204, 13) (3301, 13)\n(13204,) (3301,)\n"
     ]
    }
   ],
   "source": [
    "# Create train and test arrays\n",
    "X_train, X_test, y_train, y_test = train_test_split(rul_training_data, rul_training_label, test_size = 0.2, random_state = 0)\n",
    "\n",
    "print(X_train.shape, X_test.shape)\n",
    "print(y_train.shape, y_test.shape)"
   ]
  },
  {
   "cell_type": "code",
   "execution_count": 16,
   "metadata": {},
   "outputs": [
    {
     "output_type": "stream",
     "name": "stdout",
     "text": [
      "Building Model ...\n",
      "Hidden Layers: 2, Neurons: 6, LR: 0.001\n",
      "Epoch 1/20\n",
      "413/413 [==============================] - 1s 2ms/step - loss: 3347404.3065 - val_loss: 4798.5210\n",
      "Epoch 2/20\n",
      "413/413 [==============================] - 1s 1ms/step - loss: 4642.6370 - val_loss: 4494.7217\n",
      "Epoch 3/20\n",
      "413/413 [==============================] - 1s 1ms/step - loss: 4422.2877 - val_loss: 3636.6199\n",
      "Epoch 4/20\n",
      "413/413 [==============================] - 1s 1ms/step - loss: 2832.2579 - val_loss: 2269.0498\n",
      "Epoch 5/20\n",
      "413/413 [==============================] - 1s 1ms/step - loss: 2088.2265 - val_loss: 1984.4752\n",
      "Epoch 6/20\n",
      "413/413 [==============================] - 0s 1ms/step - loss: 2137.9431 - val_loss: 1992.4800\n",
      "Epoch 7/20\n",
      "413/413 [==============================] - 1s 1ms/step - loss: 2178.3602 - val_loss: 2067.3777\n",
      "Epoch 8/20\n",
      "413/413 [==============================] - 0s 1ms/step - loss: 2153.7649 - val_loss: 1984.1631\n",
      "Epoch 9/20\n",
      "413/413 [==============================] - 1s 2ms/step - loss: 2183.9838 - val_loss: 2002.7756\n",
      "Epoch 10/20\n",
      "413/413 [==============================] - 1s 1ms/step - loss: 2110.0756 - val_loss: 1979.3700\n",
      "Epoch 11/20\n",
      "413/413 [==============================] - 1s 1ms/step - loss: 2153.6995 - val_loss: 2022.5087\n",
      "Epoch 12/20\n",
      "413/413 [==============================] - 0s 1ms/step - loss: 2135.1735 - val_loss: 2064.3997\n",
      "Epoch 13/20\n",
      "413/413 [==============================] - 1s 1ms/step - loss: 2124.1472 - val_loss: 2107.0608\n",
      "Epoch 14/20\n",
      "413/413 [==============================] - 1s 1ms/step - loss: 2174.9934 - val_loss: 1973.3187\n",
      "Epoch 15/20\n",
      "413/413 [==============================] - 1s 1ms/step - loss: 2110.6137 - val_loss: 1990.9730\n",
      "Epoch 16/20\n",
      "413/413 [==============================] - 1s 1ms/step - loss: 2093.9810 - val_loss: 2063.9634\n",
      "Epoch 17/20\n",
      "413/413 [==============================] - 1s 1ms/step - loss: 2118.3315 - val_loss: 1995.8772\n",
      "Epoch 18/20\n",
      "413/413 [==============================] - 1s 1ms/step - loss: 2104.5815 - val_loss: 1991.1663\n",
      "Epoch 19/20\n",
      "413/413 [==============================] - 1s 1ms/step - loss: 2134.9220 - val_loss: 2004.8416\n"
     ]
    }
   ],
   "source": [
    "# Initial MLP (Target - RUL)\n",
    "\n",
    "if TRAIN_MODELS == True:\n",
    "    # Clear existing models\n",
    "    keras.backend.clear_session()\n",
    "\n",
    "    # Build model\n",
    "    model = keras_helpers.build_multilayer_perceptron()\n",
    "\n",
    "    # Name model\n",
    "    model_type = \"MLP_RUL\"\n",
    "    model_id = keras_helpers.name_model(model_type)\n",
    "    filepath_full = keras_helpers.make_save_string(model_id)\n",
    "\n",
    "    # Set save and earlystop callbacks\n",
    "    earlystop_cb = keras.callbacks.EarlyStopping(patience = 5)\n",
    "    checkpoint_cb = keras.callbacks.ModelCheckpoint(filepath = filepath_full, save_best_only = True)\n",
    "\n",
    "    # Train model\n",
    "    model.fit(X_train, y_train, epochs = 20, validation_data =(X_test, y_test), callbacks =[checkpoint_cb, earlystop_cb])"
   ]
  },
  {
   "cell_type": "code",
   "execution_count": null,
   "metadata": {},
   "outputs": [],
   "source": []
  }
 ]
}